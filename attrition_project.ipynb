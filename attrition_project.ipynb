{
  "nbformat": 4,
  "nbformat_minor": 0,
  "metadata": {
    "colab": {
      "name": "attrition_project.ipynb",
      "provenance": []
    },
    "kernelspec": {
      "name": "python3",
      "display_name": "Python 3"
    },
    "language_info": {
      "name": "python"
    }
  },
  "cells": [
    {
      "cell_type": "code",
      "metadata": {
        "colab": {
          "base_uri": "https://localhost:8080/"
        },
        "id": "DJ6UN9bv8a_k",
        "outputId": "241f2e9d-1472-4a6d-b347-2923a41aa7cb"
      },
      "source": [
        "# Mount the drive\n",
        "from google.colab import drive\n",
        "drive.mount('/content/drive')"
      ],
      "execution_count": null,
      "outputs": [
        {
          "output_type": "stream",
          "text": [
            "Drive already mounted at /content/drive; to attempt to forcibly remount, call drive.mount(\"/content/drive\", force_remount=True).\n"
          ],
          "name": "stdout"
        }
      ]
    },
    {
      "cell_type": "code",
      "metadata": {
        "colab": {
          "base_uri": "https://localhost:8080/"
        },
        "id": "qBU9I5et9YOD",
        "outputId": "4265bafb-75b5-43ca-d1b2-cc44b5080956"
      },
      "source": [
        "import numpy as np\n",
        "import pandas as pd\n",
        "import matplotlib.pyplot as plt\n",
        "import seaborn as sns\n",
        "\n",
        "from imblearn.over_sampling import SMOTE,ADASYN\n",
        "\n",
        "from sklearn.model_selection import train_test_split\n",
        "from sklearn.feature_selection import RFE\n",
        "from sklearn.linear_model import LogisticRegression\n",
        "from sklearn import metrics\n",
        "from sklearn.metrics import confusion_matrix\n",
        "from sklearn.metrics import classification_report\n",
        "\n",
        "from sklearn.metrics import roc_auc_score\n",
        "from sklearn.metrics import roc_curve\n",
        "\n",
        "import statsmodels.api as sm\n",
        "import warnings\n",
        "warnings.filterwarnings('ignore')"
      ],
      "execution_count": null,
      "outputs": [
        {
          "output_type": "stream",
          "text": [
            "/usr/local/lib/python3.7/dist-packages/sklearn/externals/six.py:31: FutureWarning: The module is deprecated in version 0.21 and will be removed in version 0.23 since we've dropped support for Python 2.7. Please rely on the official version of six (https://pypi.org/project/six/).\n",
            "  \"(https://pypi.org/project/six/).\", FutureWarning)\n",
            "/usr/local/lib/python3.7/dist-packages/sklearn/utils/deprecation.py:144: FutureWarning: The sklearn.neighbors.base module is  deprecated in version 0.22 and will be removed in version 0.24. The corresponding classes / functions should instead be imported from sklearn.neighbors. Anything that cannot be imported from sklearn.neighbors is now part of the private API.\n",
            "  warnings.warn(message, FutureWarning)\n",
            "/usr/local/lib/python3.7/dist-packages/statsmodels/tools/_testing.py:19: FutureWarning: pandas.util.testing is deprecated. Use the functions in the public API at pandas.testing instead.\n",
            "  import pandas.util.testing as tm\n"
          ],
          "name": "stderr"
        }
      ]
    },
    {
      "cell_type": "code",
      "metadata": {
        "id": "T8kHf5D98pft"
      },
      "source": [
        "data = pd.read_csv('/content/drive/My Drive/Colab Notebooks/Dataset/attrition.csv')"
      ],
      "execution_count": null,
      "outputs": []
    },
    {
      "cell_type": "code",
      "metadata": {
        "colab": {
          "base_uri": "https://localhost:8080/",
          "height": 160
        },
        "id": "jiD9Es9W8piZ",
        "outputId": "2986d0d9-ffde-4b93-dab0-260494642889"
      },
      "source": [
        "data.head(2)"
      ],
      "execution_count": null,
      "outputs": [
        {
          "output_type": "execute_result",
          "data": {
            "text/html": [
              "<div>\n",
              "<style scoped>\n",
              "    .dataframe tbody tr th:only-of-type {\n",
              "        vertical-align: middle;\n",
              "    }\n",
              "\n",
              "    .dataframe tbody tr th {\n",
              "        vertical-align: top;\n",
              "    }\n",
              "\n",
              "    .dataframe thead th {\n",
              "        text-align: right;\n",
              "    }\n",
              "</style>\n",
              "<table border=\"1\" class=\"dataframe\">\n",
              "  <thead>\n",
              "    <tr style=\"text-align: right;\">\n",
              "      <th></th>\n",
              "      <th>Age</th>\n",
              "      <th>Attrition</th>\n",
              "      <th>BusinessTravel</th>\n",
              "      <th>Department</th>\n",
              "      <th>EducationField</th>\n",
              "      <th>Environment Satisfaction</th>\n",
              "      <th>Gender</th>\n",
              "      <th>JobInvolvement</th>\n",
              "      <th>JobLevel</th>\n",
              "      <th>JobSatisfaction</th>\n",
              "      <th>MaritalStatus</th>\n",
              "      <th>MonthlyIncome</th>\n",
              "      <th>OverTime</th>\n",
              "      <th>TotalWorkingYears</th>\n",
              "      <th>WorkLifeBalance</th>\n",
              "      <th>YearsAtCompany</th>\n",
              "      <th>YearsInCurrentRole</th>\n",
              "      <th>YearsSinceLastPromotion</th>\n",
              "      <th>YearsWithCurrManager</th>\n",
              "      <th>DistanceFromHome</th>\n",
              "    </tr>\n",
              "  </thead>\n",
              "  <tbody>\n",
              "    <tr>\n",
              "      <th>0</th>\n",
              "      <td>41</td>\n",
              "      <td>1</td>\n",
              "      <td>Travel_Rarely</td>\n",
              "      <td>Sales</td>\n",
              "      <td>Life Sciences</td>\n",
              "      <td>2</td>\n",
              "      <td>Female</td>\n",
              "      <td>3</td>\n",
              "      <td>2</td>\n",
              "      <td>4</td>\n",
              "      <td>Single</td>\n",
              "      <td>5993</td>\n",
              "      <td>Yes</td>\n",
              "      <td>8</td>\n",
              "      <td>1</td>\n",
              "      <td>6</td>\n",
              "      <td>4</td>\n",
              "      <td>0</td>\n",
              "      <td>5</td>\n",
              "      <td>1</td>\n",
              "    </tr>\n",
              "    <tr>\n",
              "      <th>1</th>\n",
              "      <td>49</td>\n",
              "      <td>0</td>\n",
              "      <td>Travel_Frequently</td>\n",
              "      <td>Research &amp; Development</td>\n",
              "      <td>Life Sciences</td>\n",
              "      <td>3</td>\n",
              "      <td>Male</td>\n",
              "      <td>2</td>\n",
              "      <td>2</td>\n",
              "      <td>2</td>\n",
              "      <td>Married</td>\n",
              "      <td>5130</td>\n",
              "      <td>No</td>\n",
              "      <td>10</td>\n",
              "      <td>3</td>\n",
              "      <td>10</td>\n",
              "      <td>7</td>\n",
              "      <td>1</td>\n",
              "      <td>7</td>\n",
              "      <td>8</td>\n",
              "    </tr>\n",
              "  </tbody>\n",
              "</table>\n",
              "</div>"
            ],
            "text/plain": [
              "   Age  Attrition  ... YearsWithCurrManager DistanceFromHome\n",
              "0   41          1  ...                    5                1\n",
              "1   49          0  ...                    7                8\n",
              "\n",
              "[2 rows x 20 columns]"
            ]
          },
          "metadata": {
            "tags": []
          },
          "execution_count": 3
        }
      ]
    },
    {
      "cell_type": "code",
      "metadata": {
        "id": "cf2I3PMv8pl9"
      },
      "source": [
        "#data = data.drop(['Environment Satisfaction','JobInvolvement','WorkLifeBalance','JobSatisfaction','JobLevel'],axis = 1)"
      ],
      "execution_count": null,
      "outputs": []
    },
    {
      "cell_type": "code",
      "metadata": {
        "id": "OQiMZN7M_EX9"
      },
      "source": [
        "#function to create dummy variables\n",
        "def dummies(x):\n",
        "    dummy = pd.get_dummies(data[x])\n",
        "    data.drop(columns = x, inplace = True)\n",
        "    return pd.concat([data,dummy],axis = 1)"
      ],
      "execution_count": null,
      "outputs": []
    },
    {
      "cell_type": "code",
      "metadata": {
        "colab": {
          "base_uri": "https://localhost:8080/",
          "height": 143
        },
        "id": "opVIw2ov_Eac",
        "outputId": "bd77dd0e-8763-4f2a-a402-58970e642c10"
      },
      "source": [
        "data = dummies('BusinessTravel')\n",
        "data = dummies('Department')\n",
        "data = dummies('EducationField')\n",
        "data = dummies('MaritalStatus')\n",
        "data.head(2)"
      ],
      "execution_count": null,
      "outputs": [
        {
          "output_type": "execute_result",
          "data": {
            "text/html": [
              "<div>\n",
              "<style scoped>\n",
              "    .dataframe tbody tr th:only-of-type {\n",
              "        vertical-align: middle;\n",
              "    }\n",
              "\n",
              "    .dataframe tbody tr th {\n",
              "        vertical-align: top;\n",
              "    }\n",
              "\n",
              "    .dataframe thead th {\n",
              "        text-align: right;\n",
              "    }\n",
              "</style>\n",
              "<table border=\"1\" class=\"dataframe\">\n",
              "  <thead>\n",
              "    <tr style=\"text-align: right;\">\n",
              "      <th></th>\n",
              "      <th>Age</th>\n",
              "      <th>Attrition</th>\n",
              "      <th>Environment Satisfaction</th>\n",
              "      <th>Gender</th>\n",
              "      <th>JobInvolvement</th>\n",
              "      <th>JobLevel</th>\n",
              "      <th>JobSatisfaction</th>\n",
              "      <th>MonthlyIncome</th>\n",
              "      <th>OverTime</th>\n",
              "      <th>TotalWorkingYears</th>\n",
              "      <th>WorkLifeBalance</th>\n",
              "      <th>YearsAtCompany</th>\n",
              "      <th>YearsInCurrentRole</th>\n",
              "      <th>YearsSinceLastPromotion</th>\n",
              "      <th>YearsWithCurrManager</th>\n",
              "      <th>DistanceFromHome</th>\n",
              "      <th>Non-Travel</th>\n",
              "      <th>Travel_Frequently</th>\n",
              "      <th>Travel_Rarely</th>\n",
              "      <th>Human Resources</th>\n",
              "      <th>Research &amp; Development</th>\n",
              "      <th>Sales</th>\n",
              "      <th>Human Resources</th>\n",
              "      <th>Life Sciences</th>\n",
              "      <th>Marketing</th>\n",
              "      <th>Medical</th>\n",
              "      <th>Other</th>\n",
              "      <th>Technical Degree</th>\n",
              "      <th>Divorced</th>\n",
              "      <th>Married</th>\n",
              "      <th>Single</th>\n",
              "    </tr>\n",
              "  </thead>\n",
              "  <tbody>\n",
              "    <tr>\n",
              "      <th>0</th>\n",
              "      <td>41</td>\n",
              "      <td>1</td>\n",
              "      <td>2</td>\n",
              "      <td>Female</td>\n",
              "      <td>3</td>\n",
              "      <td>2</td>\n",
              "      <td>4</td>\n",
              "      <td>5993</td>\n",
              "      <td>Yes</td>\n",
              "      <td>8</td>\n",
              "      <td>1</td>\n",
              "      <td>6</td>\n",
              "      <td>4</td>\n",
              "      <td>0</td>\n",
              "      <td>5</td>\n",
              "      <td>1</td>\n",
              "      <td>0</td>\n",
              "      <td>0</td>\n",
              "      <td>1</td>\n",
              "      <td>0</td>\n",
              "      <td>0</td>\n",
              "      <td>1</td>\n",
              "      <td>0</td>\n",
              "      <td>1</td>\n",
              "      <td>0</td>\n",
              "      <td>0</td>\n",
              "      <td>0</td>\n",
              "      <td>0</td>\n",
              "      <td>0</td>\n",
              "      <td>0</td>\n",
              "      <td>1</td>\n",
              "    </tr>\n",
              "    <tr>\n",
              "      <th>1</th>\n",
              "      <td>49</td>\n",
              "      <td>0</td>\n",
              "      <td>3</td>\n",
              "      <td>Male</td>\n",
              "      <td>2</td>\n",
              "      <td>2</td>\n",
              "      <td>2</td>\n",
              "      <td>5130</td>\n",
              "      <td>No</td>\n",
              "      <td>10</td>\n",
              "      <td>3</td>\n",
              "      <td>10</td>\n",
              "      <td>7</td>\n",
              "      <td>1</td>\n",
              "      <td>7</td>\n",
              "      <td>8</td>\n",
              "      <td>0</td>\n",
              "      <td>1</td>\n",
              "      <td>0</td>\n",
              "      <td>0</td>\n",
              "      <td>1</td>\n",
              "      <td>0</td>\n",
              "      <td>0</td>\n",
              "      <td>1</td>\n",
              "      <td>0</td>\n",
              "      <td>0</td>\n",
              "      <td>0</td>\n",
              "      <td>0</td>\n",
              "      <td>0</td>\n",
              "      <td>1</td>\n",
              "      <td>0</td>\n",
              "    </tr>\n",
              "  </tbody>\n",
              "</table>\n",
              "</div>"
            ],
            "text/plain": [
              "   Age  Attrition  Environment Satisfaction  ... Divorced  Married  Single\n",
              "0   41          1                         2  ...        0        0       1\n",
              "1   49          0                         3  ...        0        1       0\n",
              "\n",
              "[2 rows x 31 columns]"
            ]
          },
          "metadata": {
            "tags": []
          },
          "execution_count": 5
        }
      ]
    },
    {
      "cell_type": "code",
      "metadata": {
        "id": "1qg2ckTt_EfX"
      },
      "source": [
        "data['OverTime'] = data['OverTime'].map({'Yes': 0, 'No': 1})\n",
        "data['Gender'] = data['Gender'].map({'Male':0, 'Female':1})"
      ],
      "execution_count": null,
      "outputs": []
    },
    {
      "cell_type": "code",
      "metadata": {
        "colab": {
          "base_uri": "https://localhost:8080/"
        },
        "id": "E7S6fD4eB8W8",
        "outputId": "6d62f93b-b40e-4d77-dc31-187171f70e6a"
      },
      "source": [
        "data.info()"
      ],
      "execution_count": null,
      "outputs": [
        {
          "output_type": "stream",
          "text": [
            "<class 'pandas.core.frame.DataFrame'>\n",
            "RangeIndex: 1470 entries, 0 to 1469\n",
            "Data columns (total 31 columns):\n",
            " #   Column                    Non-Null Count  Dtype\n",
            "---  ------                    --------------  -----\n",
            " 0   Age                       1470 non-null   int64\n",
            " 1   Attrition                 1470 non-null   int64\n",
            " 2   Environment Satisfaction  1470 non-null   int64\n",
            " 3   Gender                    1470 non-null   int64\n",
            " 4   JobInvolvement            1470 non-null   int64\n",
            " 5   JobLevel                  1470 non-null   int64\n",
            " 6   JobSatisfaction           1470 non-null   int64\n",
            " 7   MonthlyIncome             1470 non-null   int64\n",
            " 8   OverTime                  1470 non-null   int64\n",
            " 9   TotalWorkingYears         1470 non-null   int64\n",
            " 10  WorkLifeBalance           1470 non-null   int64\n",
            " 11  YearsAtCompany            1470 non-null   int64\n",
            " 12  YearsInCurrentRole        1470 non-null   int64\n",
            " 13  YearsSinceLastPromotion   1470 non-null   int64\n",
            " 14  YearsWithCurrManager      1470 non-null   int64\n",
            " 15  DistanceFromHome          1470 non-null   int64\n",
            " 16  Non-Travel                1470 non-null   uint8\n",
            " 17  Travel_Frequently         1470 non-null   uint8\n",
            " 18  Travel_Rarely             1470 non-null   uint8\n",
            " 19  Human Resources           1470 non-null   uint8\n",
            " 20  Research & Development    1470 non-null   uint8\n",
            " 21  Sales                     1470 non-null   uint8\n",
            " 22  Human Resources           1470 non-null   uint8\n",
            " 23  Life Sciences             1470 non-null   uint8\n",
            " 24  Marketing                 1470 non-null   uint8\n",
            " 25  Medical                   1470 non-null   uint8\n",
            " 26  Other                     1470 non-null   uint8\n",
            " 27  Technical Degree          1470 non-null   uint8\n",
            " 28  Divorced                  1470 non-null   uint8\n",
            " 29  Married                   1470 non-null   uint8\n",
            " 30  Single                    1470 non-null   uint8\n",
            "dtypes: int64(16), uint8(15)\n",
            "memory usage: 205.4 KB\n"
          ],
          "name": "stdout"
        }
      ]
    },
    {
      "cell_type": "code",
      "metadata": {
        "colab": {
          "base_uri": "https://localhost:8080/"
        },
        "id": "p3o-3Ye28p04",
        "outputId": "5bd81289-c4b3-499c-87c5-7426a33d8e13"
      },
      "source": [
        "#SMOTE Algorithm\n",
        "X = data.loc[:, data.columns != 'Attrition']\n",
        "Y = data.loc[:, data.columns == 'Attrition']\n",
        "\n",
        "os = SMOTE(random_state=0) \n",
        "os_data_X,os_data_Y=os.fit_resample(X, Y)\n",
        "os_data_X = pd.DataFrame(data=os_data_X,columns=X.columns )\n",
        "os_data_Y= pd.DataFrame(data=os_data_Y,columns=['Attrition'])\n",
        "\n",
        "# we can Check the numbers of our data\n",
        "print(\"length of oversampled data is \",len(os_data_X))\n",
        "print(\"Number of Attrition = '0' in oversampled data:\",len(os_data_Y[os_data_Y['Attrition']==0]))\n",
        "print(\"Number of Attrition = '1' in oversampled data:\",len(os_data_Y[os_data_Y['Attrition']==1]))\n",
        "print(\"Proportion of Attrition = '0':\",len(os_data_Y[os_data_Y['Attrition']==0])/len(os_data_X))\n",
        "print(\"Proportion of Attrition = '1':\",len(os_data_Y[os_data_Y['Attrition']==1])/len(os_data_X))"
      ],
      "execution_count": null,
      "outputs": [
        {
          "output_type": "stream",
          "text": [
            "length of oversampled data is  2466\n",
            "Number of Attrition = '0' in oversampled data: 1233\n",
            "Number of Attrition = '1' in oversampled data: 1233\n",
            "Proportion of Attrition = '0': 0.5\n",
            "Proportion of Attrition = '1': 0.5\n"
          ],
          "name": "stdout"
        }
      ]
    },
    {
      "cell_type": "code",
      "metadata": {
        "id": "7dH8YsK28p3e"
      },
      "source": [
        "# X = data.loc[:, data.columns != 'Attrition']\n",
        "# Y = data.loc[:, data.columns == 'Attrition']\n",
        "\n",
        "# os = ADASYN(random_state=0) \n",
        "# os_data_X,os_data_Y=os.fit_sample(X, Y)\n",
        "# os_data_X = pd.DataFrame(data=os_data_X,columns=X.columns )\n",
        "# os_data_Y= pd.DataFrame(data=os_data_Y,columns=['Attrition'])\n",
        "# # we can Check the numbers of our data\n",
        "# print(\"length of oversampled data is \",len(os_data_X))\n",
        "# print(\"Number of Attrition = '0' in oversampled data:\",len(os_data_Y[os_data_Y['Attrition']==0]))\n",
        "# print(\"Number of Attrition = '1' in oversampled data:\",len(os_data_Y[os_data_Y['Attrition']==1]))\n",
        "# print(\"Proportion of Attrition = '0':\",len(os_data_Y[os_data_Y['Attrition']==0])/len(os_data_X))\n",
        "# print(\"Proportion of Attrition = '1':\",len(os_data_Y[os_data_Y['Attrition']==1])/len(os_data_X))"
      ],
      "execution_count": null,
      "outputs": []
    },
    {
      "cell_type": "code",
      "metadata": {
        "colab": {
          "base_uri": "https://localhost:8080/"
        },
        "id": "5JTuf-I5_Eh6",
        "outputId": "373cc8b6-1d9c-4346-f5f1-b69983ac4e76"
      },
      "source": [
        "#Recursive Feature Elimination\n",
        "\n",
        "cols = data.columns.values.tolist()\n",
        "y_cols = ['Attrition']\n",
        "x_cols = [i for i in cols if i not in y_cols]\n",
        "\n",
        "logreg = LogisticRegression()\n",
        "rfe = RFE(logreg,18)\n",
        "rfe = rfe.fit(X,Y.values.ravel())\n",
        "filtered_columns = [i for indx,i in enumerate(x_cols) if rfe.support_[indx]]\n",
        "print(\"Selected Features :\\n\" , filtered_columns)"
      ],
      "execution_count": null,
      "outputs": [
        {
          "output_type": "stream",
          "text": [
            "Selected Features :\n",
            " ['Environment Satisfaction', 'Gender', 'JobInvolvement', 'JobLevel', 'JobSatisfaction', 'OverTime', 'WorkLifeBalance', 'YearsInCurrentRole', 'Non-Travel', 'Travel_Frequently', 'Research & Development', 'Sales', 'Human Resources', 'Life Sciences', 'Medical', 'Technical Degree', 'Divorced', 'Single']\n"
          ],
          "name": "stdout"
        }
      ]
    },
    {
      "cell_type": "code",
      "metadata": {
        "colab": {
          "base_uri": "https://localhost:8080/"
        },
        "id": "4BzACjp0_EkS",
        "outputId": "e5f0cb4c-39b7-4e0d-a7d1-c5c5d773fddf"
      },
      "source": [
        "#Logistic Regression\n",
        "X=os_data_X[filtered_columns]\n",
        "Y=os_data_Y['Attrition']\n",
        "logit_model = sm.Logit(Y,X)\n",
        "result = logit_model.fit()\n",
        "print(result.summary2())"
      ],
      "execution_count": null,
      "outputs": [
        {
          "output_type": "stream",
          "text": [
            "Optimization terminated successfully.\n",
            "         Current function value: 0.484098\n",
            "         Iterations 7\n",
            "                             Results: Logit\n",
            "=========================================================================\n",
            "Model:                 Logit              Pseudo R-squared:   0.302      \n",
            "Dependent Variable:    Attrition          AIC:                2425.5735  \n",
            "Date:                  2021-04-19 10:47   BIC:                2535.9702  \n",
            "No. Observations:      2466               Log-Likelihood:     -1193.8    \n",
            "Df Model:              18                 LL-Null:            -1709.3    \n",
            "Df Residuals:          2447               LLR p-value:        1.6376e-207\n",
            "Converged:             1.0000             Scale:              1.0000     \n",
            "No. Iterations:        7.0000                                            \n",
            "-------------------------------------------------------------------------\n",
            "                          Coef.  Std.Err.    z     P>|z|   [0.025  0.975]\n",
            "-------------------------------------------------------------------------\n",
            "Environment Satisfaction  0.0195   0.0475   0.4099 0.6819 -0.0736  0.1126\n",
            "Gender                   -0.6990   0.1155  -6.0508 0.0000 -0.9254 -0.4726\n",
            "JobInvolvement            0.3170   0.0646   4.9038 0.0000  0.1903  0.4437\n",
            "JobLevel                  0.0389   0.0554   0.7014 0.4830 -0.0697  0.1475\n",
            "JobSatisfaction           0.0108   0.0459   0.2354 0.8139 -0.0791  0.1007\n",
            "OverTime                 -1.4252   0.1059 -13.4582 0.0000 -1.6327 -1.2176\n",
            "WorkLifeBalance           0.6937   0.0646  10.7436 0.0000  0.5671  0.8202\n",
            "YearsInCurrentRole       -0.0951   0.0179  -5.3145 0.0000 -0.1302 -0.0600\n",
            "Non-Travel               -1.5588   0.2928  -5.3236 0.0000 -2.1328 -0.9849\n",
            "Travel_Frequently         0.0311   0.1454   0.2142 0.8304 -0.2539  0.3162\n",
            "Research & Development   -0.8623   0.1626  -5.3041 0.0000 -1.1810 -0.5437\n",
            "Sales                    -1.0136   0.1721  -5.8893 0.0000 -1.3509 -0.6763\n",
            "Human Resources          -1.9130   0.5083  -3.7633 0.0002 -2.9093 -0.9167\n",
            "Human Resources          -0.3270   0.6857  -0.4768 0.6335 -1.6709  1.0170\n",
            "Life Sciences            -1.3838   0.1334 -10.3754 0.0000 -1.6452 -1.1224\n",
            "Medical                  -1.4971   0.1494 -10.0217 0.0000 -1.7898 -1.2043\n",
            "Technical Degree         -1.3559   0.2344  -5.7851 0.0000 -1.8153 -0.8965\n",
            "Divorced                 -1.1986   0.1741  -6.8861 0.0000 -1.5398 -0.8574\n",
            "Single                    0.4732   0.1155   4.0984 0.0000  0.2469  0.6996\n",
            "=========================================================================\n",
            "\n"
          ],
          "name": "stdout"
        }
      ]
    },
    {
      "cell_type": "code",
      "metadata": {
        "colab": {
          "base_uri": "https://localhost:8080/"
        },
        "id": "EiMOQtyI_Enp",
        "outputId": "4b3587c0-dee9-4f07-d6b4-086d12c4d4f9"
      },
      "source": [
        "#Fitting and predicting\n",
        "X_train, X_test, Y_train, Y_test = train_test_split(X, Y, test_size=0.3, random_state=0)\n",
        "logreg = LogisticRegression()\n",
        "logreg.fit(X_train, Y_train)\n",
        "Y_pred = logreg.predict(X_test)\n",
        "print('Accuracy of logistic regression classifier on test set: {:.2f}'.format(logreg.score(X_test, Y_test)))"
      ],
      "execution_count": null,
      "outputs": [
        {
          "output_type": "stream",
          "text": [
            "Accuracy of logistic regression classifier on test set: 0.88\n"
          ],
          "name": "stdout"
        }
      ]
    },
    {
      "cell_type": "code",
      "metadata": {
        "colab": {
          "base_uri": "https://localhost:8080/"
        },
        "id": "l25YblFc8p6Q",
        "outputId": "90620684-d36b-4fab-a41a-0f5ff0c741ef"
      },
      "source": [
        "#Confusion Matrix\n",
        "confusion_matrix = confusion_matrix(Y_test, Y_pred)\n",
        "print(confusion_matrix)"
      ],
      "execution_count": null,
      "outputs": [
        {
          "output_type": "stream",
          "text": [
            "[[331  45]\n",
            " [ 43 321]]\n"
          ],
          "name": "stdout"
        }
      ]
    },
    {
      "cell_type": "code",
      "metadata": {
        "colab": {
          "base_uri": "https://localhost:8080/"
        },
        "id": "QpjE8t798p9U",
        "outputId": "9d175a48-e200-4390-bf94-a614e0fec9b4"
      },
      "source": [
        "#Precision and Recall\n",
        "print(classification_report(Y_test, Y_pred))"
      ],
      "execution_count": null,
      "outputs": [
        {
          "output_type": "stream",
          "text": [
            "              precision    recall  f1-score   support\n",
            "\n",
            "           0       0.89      0.88      0.88       376\n",
            "           1       0.88      0.88      0.88       364\n",
            "\n",
            "    accuracy                           0.88       740\n",
            "   macro avg       0.88      0.88      0.88       740\n",
            "weighted avg       0.88      0.88      0.88       740\n",
            "\n"
          ],
          "name": "stdout"
        }
      ]
    },
    {
      "cell_type": "code",
      "metadata": {
        "colab": {
          "base_uri": "https://localhost:8080/",
          "height": 295
        },
        "id": "2a1gqxwU8qAm",
        "outputId": "ce1338c1-9d12-4117-e6fd-fce990ff6e3f"
      },
      "source": [
        "#ROC Curve\n",
        "logit_roc_auc = roc_auc_score(Y_test, logreg.predict(X_test))\n",
        "fpr, tpr, thresholds = roc_curve(Y_test, logreg.predict_proba(X_test)[:,1])\n",
        "plt.figure()\n",
        "plt.plot(fpr, tpr, label='Logistic Regression (area = %0.2f)' % logit_roc_auc)\n",
        "plt.plot([0, 1], [0, 1],'r--')\n",
        "plt.xlim([0.0, 1.0])\n",
        "plt.ylim([0.0, 1.05])\n",
        "plt.xlabel('False Positive Rate')\n",
        "plt.ylabel('True Positive Rate')\n",
        "plt.title('Receiver operating characteristic')\n",
        "plt.legend(loc=\"lower right\")\n",
        "plt.savefig('Log_ROC')\n",
        "plt.show()"
      ],
      "execution_count": null,
      "outputs": [
        {
          "output_type": "display_data",
          "data": {
            "image/png": "[encoded data removed]",
            "text/plain": [
              "<Figure size 432x288 with 1 Axes>"
            ]
          },
          "metadata": {
            "tags": [],
            "needs_background": "light"
          }
        }
      ]
    },
    {
      "cell_type": "code",
      "metadata": {
        "id": "kCg6gN2-hUs0"
      },
      "source": [
        ""
      ],
      "execution_count": null,
      "outputs": []
    },
    {
      "cell_type": "code",
      "metadata": {
        "id": "3ZNlIv1lhUvp"
      },
      "source": [
        ""
      ],
      "execution_count": null,
      "outputs": []
    },
    {
      "cell_type": "code",
      "metadata": {
        "id": "iy8bVR8_hUyA"
      },
      "source": [
        ""
      ],
      "execution_count": null,
      "outputs": []
    },
    {
      "cell_type": "code",
      "metadata": {
        "id": "8y1NmfdHhU03"
      },
      "source": [
        ""
      ],
      "execution_count": null,
      "outputs": []
    },
    {
      "cell_type": "code",
      "metadata": {
        "id": "ucHHnmWKhU3x"
      },
      "source": [
        ""
      ],
      "execution_count": null,
      "outputs": []
    },
    {
      "cell_type": "code",
      "metadata": {
        "id": "BBNKc-PyhU7W"
      },
      "source": [
        ""
      ],
      "execution_count": null,
      "outputs": []
    }
  ]
}